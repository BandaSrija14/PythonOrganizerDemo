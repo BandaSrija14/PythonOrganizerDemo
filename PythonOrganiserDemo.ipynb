{
  "nbformat": 4,
  "nbformat_minor": 0,
  "metadata": {
    "colab": {
      "provenance": [],
      "authorship_tag": "ABX9TyMnk2mA2Bg6nQGB/TLD1JF1",
      "include_colab_link": true
    },
    "kernelspec": {
      "name": "python3",
      "display_name": "Python 3"
    },
    "language_info": {
      "name": "python"
    }
  },
  "cells": [
    {
      "cell_type": "markdown",
      "metadata": {
        "id": "view-in-github",
        "colab_type": "text"
      },
      "source": [
        "<a href=\"https://colab.research.google.com/github/BandaSrija14/PythonOrganizerDemo/blob/main/PythonOrganiserDemo.ipynb\" target=\"_parent\"><img src=\"https://colab.research.google.com/assets/colab-badge.svg\" alt=\"Open In Colab\"/></a>"
      ]
    },
    {
      "cell_type": "code",
      "execution_count": null,
      "metadata": {
        "colab": {
          "base_uri": "https://localhost:8080/"
        },
        "id": "d7Ri1Zu6heJY",
        "outputId": "2eab3e20-2ac7-4d63-fff7-a0a0a49bf792"
      },
      "outputs": [
        {
          "output_type": "stream",
          "name": "stdout",
          "text": [
            "Mounted at /content/drive\n"
          ]
        }
      ],
      "source": [
        "import os\n",
        "import shutil\n",
        "from pathlib import Path\n",
        "from google.colab import drive\n",
        "drive.mount('/content/drive')"
      ]
    },
    {
      "cell_type": "code",
      "source": [
        "import shutil\n",
        "from pathlib import Path\n",
        "import logging\n",
        "file_types = {\n",
        "    'Images': ['.jpg', '.jpeg', '.png', '.gif'],\n",
        "    'Videos': ['.mp4', '.mkv', '.avi'],\n",
        "    'Documents': ['.txt', '.docx','.pptx'],\n",
        "    'PDFs': ['.pdf'],\n",
        "}\n",
        "\n",
        "def organize_files(cluttered_path):\n",
        "    folder = Path(cluttered_path)\n",
        "    if not folder.exists():\n",
        "        print(\"Folder path does not exist.\")\n",
        "        return\n",
        "\n",
        "    log = []  # This will store log entries\n",
        "\n",
        "    for file in folder.iterdir():\n",
        "        if file.is_file():\n",
        "            moved = False\n",
        "            for folder_name, extensions in file_types.items():\n",
        "                if file.suffix.lower() in extensions:\n",
        "                    target_dir = folder / folder_name\n",
        "                    target_dir.mkdir(exist_ok=True)\n",
        "                    shutil.move(str(file), str(target_dir / file.name))\n",
        "                    moved = True\n",
        "                    log.append(f\"Moved: {file.name} → {folder_name}\")\n",
        "                    print(f\"Moved: {file.name} → {folder_name}\")\n",
        "                    break\n",
        "            if not moved:\n",
        "                log.append(f\"Skipped: {file.name} (unknown extension)\")\n",
        "                print(f\"Skipped: {file.name} (unknown extension)\")\n",
        "\n",
        "    # Write log entries to summary_log.txt\n",
        "    log_path = folder / 'summary_log.txt'\n",
        "    with open(log_path, 'w') as f:\n",
        "        f.write(\"\\n\".join(log))\n",
        "\n",
        "    print(f\"✅ Summary log saved at: {log_path}\")\n",
        "\n",
        "# Example usage:\n",
        "cluttered_path = '/content/drive/MyDrive/PythonOrganizerDemo'\n",
        "organize_files(cluttered_path)\n"
      ],
      "metadata": {
        "colab": {
          "base_uri": "https://localhost:8080/"
        },
        "id": "t8s6eP13hi3e",
        "outputId": "09cc71d4-2abe-4946-c4a2-a35d6eabab33"
      },
      "execution_count": null,
      "outputs": [
        {
          "output_type": "stream",
          "name": "stdout",
          "text": [
            "Moved: 35.pdf → PDFs\n",
            "Skipped: BC22007_MQO_APR2025.doc (unknown extension)\n",
            "Skipped: Unit -5.ppt (unknown extension)\n",
            "Moved: C LAW UNIT 5 (1) (1).pdf → PDFs\n",
            "Moved: ut 4 (1).pdf → PDFs\n",
            "Moved: dab9b2e16855b3354b768e87929e012f.mp4 → Videos\n",
            "Skipped: dab9b2e16855b3354b768e87929e012f.mp3 (unknown extension)\n",
            "Moved: download (2).gif → Images\n",
            "Moved: download (1).png → Images\n",
            "Moved: download.png → Images\n",
            "Moved: download (3).gif → Images\n",
            "Moved: download.jpg → Images\n",
            "Moved: download (4).gif → Images\n",
            "Moved: download (1).jpg → Images\n",
            "Moved: Screenshot 2024-07-30 131001.jpg → Images\n",
            "Moved: excercise.txt → Documents\n",
            "Moved: healthyeating.txt → Documents\n",
            "Moved: healthyeating.docx → Documents\n",
            "Moved: education.pdf → PDFs\n",
            "Skipped: world.txt.gdoc (unknown extension)\n",
            "✅ Summary log saved at: /content/drive/MyDrive/PythonOrganizerDemo/summary_log.txt\n"
          ]
        }
      ]
    },
    {
      "cell_type": "code",
      "source": [
        "from datetime import datetime\n",
        "from pathlib import Path\n",
        "\n",
        "log = []  # ✅ Initialize log list first\n",
        "\n",
        "file = Path(\"example.txt\")  # Dummy file example for demonstration\n",
        "folder_name = \"Documents\"\n",
        "\n",
        "# Simulate logging\n",
        "log.append(f\"[{datetime.now()}] Moved: {file.name} → {folder_name}\")\n",
        "\n",
        "# Write the log to a file\n",
        "log_path = Path(\"summary_log.txt\")\n",
        "with open(log_path, 'a') as f:\n",
        "    f.write(\"\\n\".join(log) + \"\\n\")\n",
        "\n",
        "print(\"✅ Log written.\")\n",
        "\n"
      ],
      "metadata": {
        "colab": {
          "base_uri": "https://localhost:8080/"
        },
        "id": "krt2kJY5j9qA",
        "outputId": "6a72ff4b-c397-4612-880f-903e83962eb2"
      },
      "execution_count": null,
      "outputs": [
        {
          "output_type": "stream",
          "name": "stdout",
          "text": [
            "✅ Log written.\n"
          ]
        }
      ]
    }
  ]
}